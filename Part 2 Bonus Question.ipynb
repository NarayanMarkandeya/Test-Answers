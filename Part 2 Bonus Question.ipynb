{
 "cells": [
  {
   "cell_type": "markdown",
   "id": "f98e5c8b",
   "metadata": {},
   "source": [
    "# More Bonus points (You can write answers to these in ReadMe)"
   ]
  },
  {
   "cell_type": "markdown",
   "id": "be2b3ea2",
   "metadata": {},
   "source": [
    "**1.Write about any difficult problem that you solved. (According to us difficult - is something which 90% of people would have only 10% probability in getting a similarly good solution).**\n"
   ]
  },
  {
   "cell_type": "markdown",
   "id": "a7e4112a",
   "metadata": {},
   "source": [
    "1) I am woking on component engineering projects. In one project we got the task to copy and paste all the data from different BOM(Bill Of Materials) and create the database.\n",
    "Projected time of work was 1 week.\n",
    "As I am learning data science skills, I suggested \"MySQL\" tool to client.\n",
    "I have installed the MySql in client laptop with permission and completed the work in less than day.\n",
    "\n",
    "\n",
    "2) As a component engineer I have to search the alternate parts for parts which are obsolete(production stopped in factory).\n",
    "For finding the alternate parts we use various parts distributors websites, such as DigiKey, Mouser, Arrow..etc.\n",
    "In that for some parts we get bulk number of alternates 20 to 200. From this we have to select best 3 to 4 parts which are exactly matching specifications.\n",
    "For that we have to compare each and every part with the existing one. And have to sort out which one are best suited alternates.\n",
    "I am preparing ML algorithm so that we have to just collect the parts from distributor website and we will directly get the best suited parts. So that we can reduce hours of efforts. We can complete the hours of work in few minutes.\n"
   ]
  }
 ],
 "metadata": {
  "kernelspec": {
   "display_name": "Python 3 (ipykernel)",
   "language": "python",
   "name": "python3"
  },
  "language_info": {
   "codemirror_mode": {
    "name": "ipython",
    "version": 3
   },
   "file_extension": ".py",
   "mimetype": "text/x-python",
   "name": "python",
   "nbconvert_exporter": "python",
   "pygments_lexer": "ipython3",
   "version": "3.9.7"
  }
 },
 "nbformat": 4,
 "nbformat_minor": 5
}
